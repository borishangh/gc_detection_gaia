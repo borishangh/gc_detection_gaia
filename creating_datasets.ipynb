{
 "cells": [
  {
   "cell_type": "code",
   "execution_count": 3,
   "metadata": {},
   "outputs": [],
   "source": [
    "import matplotlib.pyplot as plt\n",
    "import pandas as pd\n",
    "from lib.query import write_query, query_to_df\n",
    "from lib.units import ra_to_deg"
   ]
  },
  {
   "cell_type": "code",
   "execution_count": 1,
   "metadata": {},
   "outputs": [],
   "source": [
    "from lib.catalog import catalog"
   ]
  },
  {
   "cell_type": "code",
   "execution_count": 4,
   "metadata": {},
   "outputs": [
    {
     "data": {
      "text/plain": [
       "283.2679166666667"
      ]
     },
     "execution_count": 4,
     "metadata": {},
     "output_type": "execute_result"
    }
   ],
   "source": [
    "ra_to_deg(catalog[\"NGC_6712\"][\"ra\"])"
   ]
  },
  {
   "cell_type": "code",
   "execution_count": 49,
   "metadata": {},
   "outputs": [],
   "source": [
    "query = write_query(\n",
    "    ra_to_deg(catalog[\"NGC_6712\"][\"ra\"]),\n",
    "    catalog[\"NGC_6712\"][\"dec\"],\n",
    "    \"CIRCLE\",\n",
    "    catalog[\"NGC_6712\"][\"tidal_radius\"] / 60,\n",
    "    limit=None\n",
    ")\n",
    "\n",
    "df = query_to_df(query)"
   ]
  },
  {
   "cell_type": "code",
   "execution_count": 50,
   "metadata": {},
   "outputs": [
    {
     "name": "stdout",
     "output_type": "stream",
     "text": [
      "created NGC_3201.csv (27911, 153) objects\n",
      "created NGC_6139.csv (50000, 153) objects\n",
      "created NGC_6362.csv (50000, 153) objects\n",
      "created NGC_6397.csv (50000, 153) objects\n",
      "created NGC_6712.csv (27722, 153) objects\n"
     ]
    }
   ],
   "source": [
    "for object, values in catalog.items():\n",
    "    query = write_query(\n",
    "        ra_to_deg(values[\"ra\"]),\n",
    "        values[\"dec\"],\n",
    "        \"CIRCLE\",\n",
    "        (values[\"tidal_radius\"] / 60) * 2, # twice the tidal radius(in deg)\n",
    "        limit=50000,\n",
    "        all_rows=True,\n",
    "    )\n",
    "    df = query_to_df(query)\n",
    "    df.to_csv(f\"datasets/{object}.csv\", index=False)\n",
    "\n",
    "    print(f\"created {object}.csv {df.shape} objects\")"
   ]
  }
 ],
 "metadata": {
  "kernelspec": {
   "display_name": "Python 3",
   "language": "python",
   "name": "python3"
  },
  "language_info": {
   "codemirror_mode": {
    "name": "ipython",
    "version": 3
   },
   "file_extension": ".py",
   "mimetype": "text/x-python",
   "name": "python",
   "nbconvert_exporter": "python",
   "pygments_lexer": "ipython3",
   "version": "3.12.0"
  }
 },
 "nbformat": 4,
 "nbformat_minor": 2
}
