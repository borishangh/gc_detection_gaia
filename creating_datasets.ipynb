{
 "cells": [
  {
   "cell_type": "code",
   "execution_count": 46,
   "metadata": {},
   "outputs": [],
   "source": [
    "import matplotlib.pyplot as plt\n",
    "import pandas as pd\n",
    "from lib.query import write_query, query_to_df\n",
    "from lib.units import ra_to_deg"
   ]
  },
  {
   "cell_type": "code",
   "execution_count": 47,
   "metadata": {},
   "outputs": [],
   "source": [
    "# copied from ChatGPT\n",
    "catalog = {\n",
    "    \"NGC_1261\": {\n",
    "        \"ra\": \"03h12m16.21s\",\n",
    "        \"dec\": -55.2170,\n",
    "        \"tidal_radius\": 15.8  # Tidal radius in arcminutes\n",
    "    },\n",
    "    \"NGC_3201\": {\n",
    "        \"ra\": \"10h17m36.82s\",\n",
    "        \"dec\": -46.4111,\n",
    "        \"tidal_radius\": 28.3\n",
    "    },\n",
    "    \"NGC_6139\": {\n",
    "        \"ra\": \"16h27m40.36s\",\n",
    "        \"dec\": -38.8481,\n",
    "        \"tidal_radius\": 13.2\n",
    "    },\n",
    "    \"NGC_6205\": {\n",
    "        \"ra\": \"16h41m41.24s\",\n",
    "        \"dec\": 36.4603,\n",
    "        \"tidal_radius\": 21.0\n",
    "    },\n",
    "    \"NGC_6362\": {\n",
    "        \"ra\": \"17h31m54.99s\",\n",
    "        \"dec\": -67.0483,\n",
    "        \"tidal_radius\": 15.4\n",
    "    },\n",
    "    \"NGC_6397\": {\n",
    "        \"ra\": \"17h40m42.09s\",\n",
    "        \"dec\": -53.6743,\n",
    "        \"tidal_radius\": 9.9\n",
    "    },\n",
    "    \"NGC_6712\": {\n",
    "        \"ra\": \"18h53m04.30s\",\n",
    "        \"dec\": -8.7058,\n",
    "        \"tidal_radius\": 16.0\n",
    "    },\n",
    "    \"Pal_13\": {\n",
    "        \"ra\": \"23h06m44.98s\",\n",
    "        \"dec\": 12.7719,\n",
    "        \"tidal_radius\": 1.3\n",
    "    }\n",
    "}"
   ]
  },
  {
   "cell_type": "code",
   "execution_count": 48,
   "metadata": {},
   "outputs": [
    {
     "data": {
      "text/plain": [
       "283.2679166666667"
      ]
     },
     "execution_count": 48,
     "metadata": {},
     "output_type": "execute_result"
    }
   ],
   "source": [
    "ra_to_deg(catalog[\"NGC_6712\"][\"ra\"])"
   ]
  },
  {
   "cell_type": "code",
   "execution_count": 49,
   "metadata": {},
   "outputs": [],
   "source": [
    "query = write_query(\n",
    "    ra_to_deg(catalog[\"NGC_6712\"][\"ra\"]),\n",
    "    catalog[\"NGC_6712\"][\"dec\"],\n",
    "    \"CIRCLE\",\n",
    "    catalog[\"NGC_6712\"][\"tidal_radius\"] / 60,\n",
    "    limit=None\n",
    ")\n",
    "\n",
    "# print(query)\n",
    "\n",
    "df = query_to_df(query)"
   ]
  },
  {
   "cell_type": "code",
   "execution_count": 50,
   "metadata": {},
   "outputs": [
    {
     "name": "stdout",
     "output_type": "stream",
     "text": [
      "created NGC_3201.csv (27911, 153) objects\n",
      "created NGC_6139.csv (50000, 153) objects\n",
      "created NGC_6362.csv (50000, 153) objects\n",
      "created NGC_6397.csv (50000, 153) objects\n",
      "created NGC_6712.csv (27722, 153) objects\n"
     ]
    }
   ],
   "source": [
    "for object, values in catalog.items():\n",
    "    query = write_query(\n",
    "        ra_to_deg(values[\"ra\"]),\n",
    "        values[\"dec\"],\n",
    "        \"CIRCLE\",\n",
    "        (values[\"tidal_radius\"] / 60) * 2, # twice the tidal radius(in deg)\n",
    "        limit=50000,\n",
    "        all_rows=True,\n",
    "    )\n",
    "    df = query_to_df(query)\n",
    "    df.to_csv(f\"datasets/{object}.csv\", index=False)\n",
    "\n",
    "    print(f\"created {object}.csv {df.shape} objects\")"
   ]
  }
 ],
 "metadata": {
  "kernelspec": {
   "display_name": "Python 3",
   "language": "python",
   "name": "python3"
  },
  "language_info": {
   "codemirror_mode": {
    "name": "ipython",
    "version": 3
   },
   "file_extension": ".py",
   "mimetype": "text/x-python",
   "name": "python",
   "nbconvert_exporter": "python",
   "pygments_lexer": "ipython3",
   "version": "3.12.0"
  }
 },
 "nbformat": 4,
 "nbformat_minor": 2
}
