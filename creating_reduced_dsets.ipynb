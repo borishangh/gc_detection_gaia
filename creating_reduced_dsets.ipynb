{
 "cells": [
  {
   "cell_type": "code",
   "execution_count": 2,
   "metadata": {},
   "outputs": [],
   "source": [
    "import os\n",
    "import numpy as np\n",
    "import pandas as pd\n",
    "import matplotlib.pyplot as plt\n",
    "from astropy.coordinates import SkyCoord\n",
    "import astropy.units as u\n",
    "\n",
    "from lib.units import ra_to_deg\n",
    "from lib.catalog import catalog"
   ]
  },
  {
   "cell_type": "code",
   "execution_count": 5,
   "metadata": {},
   "outputs": [],
   "source": [
    "def eq_to_gnomonic(ra, dec, ra_center, dec_center):\n",
    "    coord = SkyCoord(ra=ra*u.degree, dec=dec*u.degree, frame='icrs')\n",
    "    center_coord = SkyCoord(ra=ra_center*u.degree, dec=dec_center*u.degree, frame='icrs')\n",
    "    xi, eta = coord.spherical_offsets_to(center_coord)\n",
    "    \n",
    "    xi_deg = xi.to(u.deg).value\n",
    "    eta_deg = eta.to(u.deg).value\n",
    "    \n",
    "    return xi_deg, eta_deg\n",
    "\n",
    "eqlist_to_gnomonic = np.vectorize(eq_to_gnomonic)"
   ]
  },
  {
   "cell_type": "code",
   "execution_count": null,
   "metadata": {},
   "outputs": [
    {
     "name": "stdout",
     "output_type": "stream",
     "text": [
      "NGC_1261 processing started (11258, 153)\n",
      "NGC_1261 gnomonic coordinates computed\n",
      "NGC_1261 reduced dataset saved \n",
      "\n",
      "NGC_3201 processing started (27911, 153)\n",
      "NGC_3201 gnomonic coordinates computed\n",
      "NGC_3201 reduced dataset saved \n",
      "\n",
      "NGC_6139 processing started (50000, 153)\n",
      "NGC_6139 gnomonic coordinates computed\n",
      "NGC_6139 reduced dataset saved \n",
      "\n",
      "NGC_6205 processing started (25261, 153)\n",
      "NGC_6205 gnomonic coordinates computed\n",
      "NGC_6205 reduced dataset saved \n",
      "\n",
      "NGC_6362 processing started (50000, 153)\n",
      "NGC_6362 gnomonic coordinates computed\n",
      "NGC_6362 reduced dataset saved \n",
      "\n",
      "NGC_6397 processing started (50000, 153)\n"
     ]
    }
   ],
   "source": [
    "for file in os.listdir('datasets'):\n",
    "    cluster_name = file[:-4]\n",
    "    df = pd.read_csv(os.path.join('datasets', file))\n",
    "    print(cluster_name, \"processing started\", df.shape)\n",
    "\n",
    "    cluster = catalog[cluster_name]\n",
    "    ra_centre, dec_centre = ra_to_deg(cluster[\"ra\"]), cluster[\"dec\"]\n",
    "    X_t, Y_t = eqlist_to_gnomonic(df.ra, df.dec, ra_centre, dec_centre)\n",
    "    print(cluster_name, \"gnomonic coordinates computed\")\n",
    "\n",
    "    pm_alpha = df.pmra * np.cos(df.dec)\n",
    "    pm_delta = df.pmdec\n",
    "\n",
    "    reduced_df = pd.DataFrame(\n",
    "        {\"X_t\": X_t, \"Y_t\": Y_t, \"pm_alpha\": pm_alpha, \"pm_delta\": pm_delta}\n",
    "    )\n",
    "    filepath = os.path.join(\"reduced_datasets\", cluster_name + \"_reduced.csv\")\n",
    "    reduced_df.to_csv(filepath, index=False)\n",
    "    print(cluster_name, \"reduced dataset saved \\n\")\n"
   ]
  }
 ],
 "metadata": {
  "kernelspec": {
   "display_name": "Python 3",
   "language": "python",
   "name": "python3"
  },
  "language_info": {
   "codemirror_mode": {
    "name": "ipython",
    "version": 3
   },
   "file_extension": ".py",
   "mimetype": "text/x-python",
   "name": "python",
   "nbconvert_exporter": "python",
   "pygments_lexer": "ipython3",
   "version": "3.12.0"
  }
 },
 "nbformat": 4,
 "nbformat_minor": 2
}
