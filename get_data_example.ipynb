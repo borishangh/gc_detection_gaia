{
 "cells": [
  {
   "cell_type": "code",
   "execution_count": null,
   "metadata": {},
   "outputs": [],
   "source": [
    "import pandas as pd\n",
    "import matplotlib.pyplot as plt\n",
    "from lib.query import write_query, query_to_df\n",
    "from lib.units import ra_decimal, dec_decimal"
   ]
  },
  {
   "cell_type": "code",
   "execution_count": 2,
   "metadata": {},
   "outputs": [
    {
     "data": {
      "text/html": [
       "<div>\n",
       "<style scoped>\n",
       "    .dataframe tbody tr th:only-of-type {\n",
       "        vertical-align: middle;\n",
       "    }\n",
       "\n",
       "    .dataframe tbody tr th {\n",
       "        vertical-align: top;\n",
       "    }\n",
       "\n",
       "    .dataframe thead th {\n",
       "        text-align: right;\n",
       "    }\n",
       "</style>\n",
       "<table border=\"1\" class=\"dataframe\">\n",
       "  <thead>\n",
       "    <tr style=\"text-align: right;\">\n",
       "      <th></th>\n",
       "      <th>Name</th>\n",
       "      <th>Con</th>\n",
       "      <th>RA</th>\n",
       "      <th>DEC</th>\n",
       "      <th>R_Sun</th>\n",
       "      <th>R_gc</th>\n",
       "      <th>m_v</th>\n",
       "      <th>dim</th>\n",
       "      <th>status</th>\n",
       "    </tr>\n",
       "  </thead>\n",
       "  <tbody>\n",
       "    <tr>\n",
       "      <th>0</th>\n",
       "      <td>NGC 104, 47 Tuc</td>\n",
       "      <td>Tuc</td>\n",
       "      <td>0:24:06</td>\n",
       "      <td>-72:04:53</td>\n",
       "      <td>14.7</td>\n",
       "      <td>24.1</td>\n",
       "      <td>3.95</td>\n",
       "      <td>50.0</td>\n",
       "      <td>confirmed</td>\n",
       "    </tr>\n",
       "    <tr>\n",
       "      <th>1</th>\n",
       "      <td>NGC 288</td>\n",
       "      <td>Scl</td>\n",
       "      <td>0:52:45</td>\n",
       "      <td>-26:34:57</td>\n",
       "      <td>29.0</td>\n",
       "      <td>39.1</td>\n",
       "      <td>8.09</td>\n",
       "      <td>13.0</td>\n",
       "      <td>confirmed</td>\n",
       "    </tr>\n",
       "    <tr>\n",
       "      <th>2</th>\n",
       "      <td>NGC 362</td>\n",
       "      <td>Tuc</td>\n",
       "      <td>1:03:14</td>\n",
       "      <td>-70:50:56</td>\n",
       "      <td>28.0</td>\n",
       "      <td>30.6</td>\n",
       "      <td>6.40</td>\n",
       "      <td>14.0</td>\n",
       "      <td>confirmed</td>\n",
       "    </tr>\n",
       "    <tr>\n",
       "      <th>3</th>\n",
       "      <td>Whiting 1</td>\n",
       "      <td>Cet</td>\n",
       "      <td>2:02:57</td>\n",
       "      <td>-3:15:10</td>\n",
       "      <td>98.1</td>\n",
       "      <td>112.5</td>\n",
       "      <td>15.03</td>\n",
       "      <td>1.2</td>\n",
       "      <td>confirmed</td>\n",
       "    </tr>\n",
       "    <tr>\n",
       "      <th>4</th>\n",
       "      <td>NGC 1261</td>\n",
       "      <td>Hor</td>\n",
       "      <td>3:12:16</td>\n",
       "      <td>-55:12:58</td>\n",
       "      <td>53.1</td>\n",
       "      <td>59.0</td>\n",
       "      <td>8.29</td>\n",
       "      <td>6.8</td>\n",
       "      <td>confirmed</td>\n",
       "    </tr>\n",
       "  </tbody>\n",
       "</table>\n",
       "</div>"
      ],
      "text/plain": [
       "              Name  Con       RA        DEC  R_Sun   R_gc    m_v   dim  \\\n",
       "0  NGC 104, 47 Tuc  Tuc  0:24:06  -72:04:53   14.7   24.1   3.95  50.0   \n",
       "1          NGC 288  Scl  0:52:45  -26:34:57   29.0   39.1   8.09  13.0   \n",
       "2          NGC 362  Tuc  1:03:14  -70:50:56   28.0   30.6   6.40  14.0   \n",
       "3        Whiting 1  Cet  2:02:57   -3:15:10   98.1  112.5  15.03   1.2   \n",
       "4         NGC 1261  Hor  3:12:16  -55:12:58   53.1   59.0   8.29   6.8   \n",
       "\n",
       "      status  \n",
       "0  confirmed  \n",
       "1  confirmed  \n",
       "2  confirmed  \n",
       "3  confirmed  \n",
       "4  confirmed  "
      ]
     },
     "execution_count": 2,
     "metadata": {},
     "output_type": "execute_result"
    }
   ],
   "source": [
    "gc_list = pd.read_csv(\"gc_list.csv\")\n",
    "gc_list.head()"
   ]
  },
  {
   "cell_type": "code",
   "execution_count": 3,
   "metadata": {},
   "outputs": [
    {
     "data": {
      "text/plain": [
       "Name        NGC 288\n",
       "Con             Scl\n",
       "RA          0:52:45\n",
       "DEC       -26:34:57\n",
       "R_Sun          29.0\n",
       "R_gc           39.1\n",
       "m_v            8.09\n",
       "dim            13.0\n",
       "status    confirmed\n",
       "Name: 1, dtype: object"
      ]
     },
     "execution_count": 3,
     "metadata": {},
     "output_type": "execute_result"
    }
   ],
   "source": [
    "sample_cluster = gc_list.loc[1]\n",
    "sample_cluster"
   ]
  },
  {
   "cell_type": "code",
   "execution_count": 11,
   "metadata": {},
   "outputs": [
    {
     "name": "stdout",
     "output_type": "stream",
     "text": [
      "\n",
      "    SELECT TOP 2000\n",
      "    source_id, ra, dec, parallax, pmra, pmdec, phot_g_mean_mag, bp_rp, DISTANCE(POINT('ICRS', ra, dec), POINT('ICRS', 13.1875, -25.4175)) AS dist\n",
      "    FROM gaiadr3.gaia_source\n",
      "    WHERE CONTAINS(POINT('ICRS', ra, dec), CIRCLE('ICRS', 13.1875, -25.4175, 5))=1\n",
      "    AND parallax > 0\n",
      "    AND pmra IS NOT NULL\n",
      "    AND pmdec IS NOT NULL\n",
      "    AND phot_g_mean_mag IS NOT NULL\n",
      "    AND bp_rp IS NOT NULL\n",
      "    ORDER BY dist ASC\n",
      "    \n"
     ]
    }
   ],
   "source": [
    "query = write_query(\n",
    "    ra_decimal(sample_cluster.RA),\n",
    "    dec_decimal(sample_cluster.DEC),\n",
    "    \"CIRCLE\", 5, limit=2000\n",
    ")\n",
    "print(query)\n",
    "cluster_df = query_to_df(query)"
   ]
  },
  {
   "cell_type": "code",
   "execution_count": 12,
   "metadata": {},
   "outputs": [
    {
     "data": {
      "text/html": [
       "<div>\n",
       "<style scoped>\n",
       "    .dataframe tbody tr th:only-of-type {\n",
       "        vertical-align: middle;\n",
       "    }\n",
       "\n",
       "    .dataframe tbody tr th {\n",
       "        vertical-align: top;\n",
       "    }\n",
       "\n",
       "    .dataframe thead th {\n",
       "        text-align: right;\n",
       "    }\n",
       "</style>\n",
       "<table border=\"1\" class=\"dataframe\">\n",
       "  <thead>\n",
       "    <tr style=\"text-align: right;\">\n",
       "      <th></th>\n",
       "      <th>source_id</th>\n",
       "      <th>ra</th>\n",
       "      <th>dec</th>\n",
       "      <th>parallax</th>\n",
       "      <th>pmra</th>\n",
       "      <th>pmdec</th>\n",
       "      <th>phot_g_mean_mag</th>\n",
       "      <th>bp_rp</th>\n",
       "      <th>dist</th>\n",
       "    </tr>\n",
       "  </thead>\n",
       "  <tbody>\n",
       "    <tr>\n",
       "      <th>0</th>\n",
       "      <td>2345293795656501504</td>\n",
       "      <td>13.174980</td>\n",
       "      <td>-25.407417</td>\n",
       "      <td>0.137611</td>\n",
       "      <td>-0.544700</td>\n",
       "      <td>-8.419847</td>\n",
       "      <td>19.291046</td>\n",
       "      <td>0.888512</td>\n",
       "      <td>0.015151</td>\n",
       "    </tr>\n",
       "    <tr>\n",
       "      <th>1</th>\n",
       "      <td>2345293903031086848</td>\n",
       "      <td>13.187693</td>\n",
       "      <td>-25.391947</td>\n",
       "      <td>2.005921</td>\n",
       "      <td>7.066473</td>\n",
       "      <td>-10.773629</td>\n",
       "      <td>16.526520</td>\n",
       "      <td>1.752634</td>\n",
       "      <td>0.025554</td>\n",
       "    </tr>\n",
       "    <tr>\n",
       "      <th>2</th>\n",
       "      <td>2345287890076872960</td>\n",
       "      <td>13.155948</td>\n",
       "      <td>-25.428483</td>\n",
       "      <td>0.361368</td>\n",
       "      <td>-1.948640</td>\n",
       "      <td>-6.943517</td>\n",
       "      <td>16.779613</td>\n",
       "      <td>0.893938</td>\n",
       "      <td>0.030540</td>\n",
       "    </tr>\n",
       "    <tr>\n",
       "      <th>3</th>\n",
       "      <td>2345287679623048320</td>\n",
       "      <td>13.162679</td>\n",
       "      <td>-25.442066</td>\n",
       "      <td>0.739119</td>\n",
       "      <td>7.334837</td>\n",
       "      <td>-13.281918</td>\n",
       "      <td>18.072870</td>\n",
       "      <td>1.860229</td>\n",
       "      <td>0.033257</td>\n",
       "    </tr>\n",
       "    <tr>\n",
       "      <th>4</th>\n",
       "      <td>2345287645263310080</td>\n",
       "      <td>13.154248</td>\n",
       "      <td>-25.442321</td>\n",
       "      <td>0.055865</td>\n",
       "      <td>0.133031</td>\n",
       "      <td>-46.365329</td>\n",
       "      <td>19.304785</td>\n",
       "      <td>1.626202</td>\n",
       "      <td>0.038961</td>\n",
       "    </tr>\n",
       "  </tbody>\n",
       "</table>\n",
       "</div>"
      ],
      "text/plain": [
       "             source_id         ra        dec  parallax      pmra      pmdec  \\\n",
       "0  2345293795656501504  13.174980 -25.407417  0.137611 -0.544700  -8.419847   \n",
       "1  2345293903031086848  13.187693 -25.391947  2.005921  7.066473 -10.773629   \n",
       "2  2345287890076872960  13.155948 -25.428483  0.361368 -1.948640  -6.943517   \n",
       "3  2345287679623048320  13.162679 -25.442066  0.739119  7.334837 -13.281918   \n",
       "4  2345287645263310080  13.154248 -25.442321  0.055865  0.133031 -46.365329   \n",
       "\n",
       "   phot_g_mean_mag     bp_rp      dist  \n",
       "0        19.291046  0.888512  0.015151  \n",
       "1        16.526520  1.752634  0.025554  \n",
       "2        16.779613  0.893938  0.030540  \n",
       "3        18.072870  1.860229  0.033257  \n",
       "4        19.304785  1.626202  0.038961  "
      ]
     },
     "execution_count": 12,
     "metadata": {},
     "output_type": "execute_result"
    }
   ],
   "source": [
    "cluster_df.head()"
   ]
  },
  {
   "cell_type": "code",
   "execution_count": 25,
   "metadata": {},
   "outputs": [
    {
     "data": {
      "image/png": "[encoded data removed]",
      "text/plain": [
       "<Figure size 800x600 with 2 Axes>"
      ]
     },
     "metadata": {},
     "output_type": "display_data"
    }
   ],
   "source": [
    "plt.figure(figsize=(8, 6))\n",
    "sc = plt.scatter(\n",
    "    cluster_df.pmra, \n",
    "    cluster_df.pmdec, \n",
    "    s=0.2, \n",
    "    c=cluster_df.phot_g_mean_mag,\n",
    "    cmap=\"coolwarm\"\n",
    ")\n",
    "plt.colorbar()\n",
    "plt.xlabel(\"pmra (mas/yr)\")\n",
    "plt.ylabel(\"pmdec (mas/yr)\")\n",
    "plt.show()\n"
   ]
  },
  {
   "cell_type": "code",
   "execution_count": 17,
   "metadata": {},
   "outputs": [],
   "source": [
    "cluster_df.to_csv(f'data/sample_cluster.csv')"
   ]
  }
 ],
 "metadata": {
  "kernelspec": {
   "display_name": "Python 3",
   "language": "python",
   "name": "python3"
  },
  "language_info": {
   "codemirror_mode": {
    "name": "ipython",
    "version": 3
   },
   "file_extension": ".py",
   "mimetype": "text/x-python",
   "name": "python",
   "nbconvert_exporter": "python",
   "pygments_lexer": "ipython3",
   "version": "3.13.0"
  }
 },
 "nbformat": 4,
 "nbformat_minor": 2
}
