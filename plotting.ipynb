{
 "cells": [
  {
   "cell_type": "code",
   "execution_count": 2,
   "metadata": {},
   "outputs": [],
   "source": [
    "import os\n",
    "import pandas as pd\n",
    "import matplotlib.pyplot as plt"
   ]
  },
  {
   "cell_type": "code",
   "execution_count": 5,
   "metadata": {},
   "outputs": [],
   "source": [
    "for file in os.listdir('datasets'):\n",
    "    df = pd.read_csv(os.path.join('datasets', file))\n",
    "    plt.figure(figsize=(5,5))\n",
    "    plt.scatter(df.ra, df.dec, c = 'k', alpha = .5, s = .2)\n",
    "    plt.title(file[:-4].replace('_', ' '))\n",
    "    plot_path = os.path.join('plots', file.replace('.csv', '.png'))\n",
    "    plt.savefig(plot_path)\n",
    "\n",
    "    plt.close()"
   ]
  }
 ],
 "metadata": {
  "kernelspec": {
   "display_name": "Python 3",
   "language": "python",
   "name": "python3"
  },
  "language_info": {
   "codemirror_mode": {
    "name": "ipython",
    "version": 3
   },
   "file_extension": ".py",
   "mimetype": "text/x-python",
   "name": "python",
   "nbconvert_exporter": "python",
   "pygments_lexer": "ipython3",
   "version": "3.12.0"
  }
 },
 "nbformat": 4,
 "nbformat_minor": 2
}
